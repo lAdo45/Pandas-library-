{
 "cells": [
  {
   "cell_type": "code",
   "execution_count": 3,
   "id": "dd884d5e-1a8b-4b69-b124-bff65c67d27a",
   "metadata": {},
   "outputs": [],
   "source": [
    "import pandas as pd"
   ]
  },
  {
   "cell_type": "code",
   "execution_count": 5,
   "id": "b9d7a524-7478-4aae-a4cf-bda31a1e1db8",
   "metadata": {},
   "outputs": [],
   "source": [
    "import os"
   ]
  },
  {
   "cell_type": "code",
   "execution_count": 7,
   "id": "7ce5822f-4d98-4919-accb-b7df8c69093b",
   "metadata": {},
   "outputs": [
    {
     "data": {
      "text/plain": [
       "'C:\\\\Users\\\\ASUS'"
      ]
     },
     "execution_count": 7,
     "metadata": {},
     "output_type": "execute_result"
    }
   ],
   "source": [
    "os.getcwd()"
   ]
  },
  {
   "cell_type": "code",
   "execution_count": 9,
   "id": "c41b9170-2292-41c5-9716-cc97ea9f9322",
   "metadata": {},
   "outputs": [],
   "source": [
    "os.chdir('Downloads\\\\')"
   ]
  },
  {
   "cell_type": "code",
   "execution_count": 32,
   "id": "07456326-9fa0-4079-816a-fdb0d831d4a0",
   "metadata": {},
   "outputs": [
    {
     "name": "stdout",
     "output_type": "stream",
     "text": [
      "     Name  age     city\n",
      "0    yash   24  amravti\n",
      "1  mahesh   32   nagpur\n",
      "2     raj   28     pune\n"
     ]
    }
   ],
   "source": [
    "import pandas as pd \n",
    "\n",
    "data = {\n",
    "    \"Name\": ['yash', 'mahesh', 'raj'],\n",
    "    \"age\": [24, 32, 28],\n",
    "    \"city\": ['amravti', 'nagpur', 'pune']\n",
    "}\n",
    "\n",
    "df = pd.DataFrame(data)  # Corrected: pd.DataFrame instead of pd.dataframe\n",
    "print(df)\n",
    "\n",
    "df.to_csv(\"output.csv\", index=False)  # Also note: False should be capitalized (not false)"
   ]
  },
  {
   "cell_type": "code",
   "execution_count": 36,
   "id": "6c045225-1b24-43b5-b884-c26da21a9ab3",
   "metadata": {},
   "outputs": [
    {
     "data": {
      "text/html": [
       "<div>\n",
       "<style scoped>\n",
       "    .dataframe tbody tr th:only-of-type {\n",
       "        vertical-align: middle;\n",
       "    }\n",
       "\n",
       "    .dataframe tbody tr th {\n",
       "        vertical-align: top;\n",
       "    }\n",
       "\n",
       "    .dataframe thead th {\n",
       "        text-align: right;\n",
       "    }\n",
       "</style>\n",
       "<table border=\"1\" class=\"dataframe\">\n",
       "  <thead>\n",
       "    <tr style=\"text-align: right;\">\n",
       "      <th></th>\n",
       "      <th>Name</th>\n",
       "      <th>age</th>\n",
       "      <th>city</th>\n",
       "    </tr>\n",
       "  </thead>\n",
       "  <tbody>\n",
       "    <tr>\n",
       "      <th>0</th>\n",
       "      <td>yash</td>\n",
       "      <td>24</td>\n",
       "      <td>amravti</td>\n",
       "    </tr>\n",
       "    <tr>\n",
       "      <th>1</th>\n",
       "      <td>mahesh</td>\n",
       "      <td>32</td>\n",
       "      <td>nagpur</td>\n",
       "    </tr>\n",
       "    <tr>\n",
       "      <th>2</th>\n",
       "      <td>raj</td>\n",
       "      <td>28</td>\n",
       "      <td>pune</td>\n",
       "    </tr>\n",
       "  </tbody>\n",
       "</table>\n",
       "</div>"
      ],
      "text/plain": [
       "     Name  age     city\n",
       "0    yash   24  amravti\n",
       "1  mahesh   32   nagpur\n",
       "2     raj   28     pune"
      ]
     },
     "metadata": {},
     "output_type": "display_data"
    }
   ],
   "source": [
    "display(df)"
   ]
  },
  {
   "cell_type": "code",
   "execution_count": 38,
   "id": "ede0134a-85cf-4aa7-adf3-e591a007f78f",
   "metadata": {},
   "outputs": [
    {
     "data": {
      "text/html": [
       "<div>\n",
       "<style scoped>\n",
       "    .dataframe tbody tr th:only-of-type {\n",
       "        vertical-align: middle;\n",
       "    }\n",
       "\n",
       "    .dataframe tbody tr th {\n",
       "        vertical-align: top;\n",
       "    }\n",
       "\n",
       "    .dataframe thead th {\n",
       "        text-align: right;\n",
       "    }\n",
       "</style>\n",
       "<table border=\"1\" class=\"dataframe\">\n",
       "  <thead>\n",
       "    <tr style=\"text-align: right;\">\n",
       "      <th></th>\n",
       "      <th>Name</th>\n",
       "      <th>age</th>\n",
       "      <th>city</th>\n",
       "    </tr>\n",
       "  </thead>\n",
       "  <tbody>\n",
       "    <tr>\n",
       "      <th>0</th>\n",
       "      <td>yash</td>\n",
       "      <td>24</td>\n",
       "      <td>amravti</td>\n",
       "    </tr>\n",
       "    <tr>\n",
       "      <th>1</th>\n",
       "      <td>mahesh</td>\n",
       "      <td>32</td>\n",
       "      <td>nagpur</td>\n",
       "    </tr>\n",
       "    <tr>\n",
       "      <th>2</th>\n",
       "      <td>raj</td>\n",
       "      <td>28</td>\n",
       "      <td>pune</td>\n",
       "    </tr>\n",
       "  </tbody>\n",
       "</table>\n",
       "</div>"
      ],
      "text/plain": [
       "     Name  age     city\n",
       "0    yash   24  amravti\n",
       "1  mahesh   32   nagpur\n",
       "2     raj   28     pune"
      ]
     },
     "execution_count": 38,
     "metadata": {},
     "output_type": "execute_result"
    }
   ],
   "source": [
    "df.head()"
   ]
  },
  {
   "cell_type": "code",
   "execution_count": 40,
   "id": "857e5fc7-d0f6-4e36-8c7f-454a9b67fb10",
   "metadata": {},
   "outputs": [
    {
     "data": {
      "text/html": [
       "<div>\n",
       "<style scoped>\n",
       "    .dataframe tbody tr th:only-of-type {\n",
       "        vertical-align: middle;\n",
       "    }\n",
       "\n",
       "    .dataframe tbody tr th {\n",
       "        vertical-align: top;\n",
       "    }\n",
       "\n",
       "    .dataframe thead th {\n",
       "        text-align: right;\n",
       "    }\n",
       "</style>\n",
       "<table border=\"1\" class=\"dataframe\">\n",
       "  <thead>\n",
       "    <tr style=\"text-align: right;\">\n",
       "      <th></th>\n",
       "      <th>Name</th>\n",
       "      <th>age</th>\n",
       "      <th>city</th>\n",
       "    </tr>\n",
       "  </thead>\n",
       "  <tbody>\n",
       "    <tr>\n",
       "      <th>0</th>\n",
       "      <td>yash</td>\n",
       "      <td>24</td>\n",
       "      <td>amravti</td>\n",
       "    </tr>\n",
       "    <tr>\n",
       "      <th>1</th>\n",
       "      <td>mahesh</td>\n",
       "      <td>32</td>\n",
       "      <td>nagpur</td>\n",
       "    </tr>\n",
       "    <tr>\n",
       "      <th>2</th>\n",
       "      <td>raj</td>\n",
       "      <td>28</td>\n",
       "      <td>pune</td>\n",
       "    </tr>\n",
       "  </tbody>\n",
       "</table>\n",
       "</div>"
      ],
      "text/plain": [
       "     Name  age     city\n",
       "0    yash   24  amravti\n",
       "1  mahesh   32   nagpur\n",
       "2     raj   28     pune"
      ]
     },
     "execution_count": 40,
     "metadata": {},
     "output_type": "execute_result"
    }
   ],
   "source": [
    "df.tail()"
   ]
  },
  {
   "cell_type": "code",
   "execution_count": 42,
   "id": "8ca55bac-a2a6-4d75-b2bb-bb6b79a46e0c",
   "metadata": {},
   "outputs": [
    {
     "data": {
      "text/plain": [
       "Name    0\n",
       "age     0\n",
       "city    0\n",
       "dtype: int64"
      ]
     },
     "execution_count": 42,
     "metadata": {},
     "output_type": "execute_result"
    }
   ],
   "source": [
    "df.isnull().sum()"
   ]
  },
  {
   "cell_type": "code",
   "execution_count": 44,
   "id": "5e71d4e7-96bf-4ed9-8d82-04ca676416d9",
   "metadata": {},
   "outputs": [
    {
     "ename": "FileNotFoundError",
     "evalue": "[Errno 2] No such file or directory: 'sales_data_sample.csv'",
     "output_type": "error",
     "traceback": [
      "\u001b[1;31m---------------------------------------------------------------------------\u001b[0m",
      "\u001b[1;31mFileNotFoundError\u001b[0m                         Traceback (most recent call last)",
      "Cell \u001b[1;32mIn[44], line 1\u001b[0m\n\u001b[1;32m----> 1\u001b[0m df\u001b[38;5;241m=\u001b[39mpd\u001b[38;5;241m.\u001b[39mread_csv(\u001b[38;5;124m\"\u001b[39m\u001b[38;5;124msales_data_sample.csv\u001b[39m\u001b[38;5;124m\"\u001b[39m, encoding\u001b[38;5;241m=\u001b[39m\u001b[38;5;124m\"\u001b[39m\u001b[38;5;124mlatin1\u001b[39m\u001b[38;5;124m\"\u001b[39m)\n\u001b[0;32m      2\u001b[0m \u001b[38;5;28mprint\u001b[39m(df\u001b[38;5;241m.\u001b[39minfo())\n",
      "File \u001b[1;32m~\\anaconda3\\Lib\\site-packages\\pandas\\io\\parsers\\readers.py:1026\u001b[0m, in \u001b[0;36mread_csv\u001b[1;34m(filepath_or_buffer, sep, delimiter, header, names, index_col, usecols, dtype, engine, converters, true_values, false_values, skipinitialspace, skiprows, skipfooter, nrows, na_values, keep_default_na, na_filter, verbose, skip_blank_lines, parse_dates, infer_datetime_format, keep_date_col, date_parser, date_format, dayfirst, cache_dates, iterator, chunksize, compression, thousands, decimal, lineterminator, quotechar, quoting, doublequote, escapechar, comment, encoding, encoding_errors, dialect, on_bad_lines, delim_whitespace, low_memory, memory_map, float_precision, storage_options, dtype_backend)\u001b[0m\n\u001b[0;32m   1013\u001b[0m kwds_defaults \u001b[38;5;241m=\u001b[39m _refine_defaults_read(\n\u001b[0;32m   1014\u001b[0m     dialect,\n\u001b[0;32m   1015\u001b[0m     delimiter,\n\u001b[1;32m   (...)\u001b[0m\n\u001b[0;32m   1022\u001b[0m     dtype_backend\u001b[38;5;241m=\u001b[39mdtype_backend,\n\u001b[0;32m   1023\u001b[0m )\n\u001b[0;32m   1024\u001b[0m kwds\u001b[38;5;241m.\u001b[39mupdate(kwds_defaults)\n\u001b[1;32m-> 1026\u001b[0m \u001b[38;5;28;01mreturn\u001b[39;00m _read(filepath_or_buffer, kwds)\n",
      "File \u001b[1;32m~\\anaconda3\\Lib\\site-packages\\pandas\\io\\parsers\\readers.py:620\u001b[0m, in \u001b[0;36m_read\u001b[1;34m(filepath_or_buffer, kwds)\u001b[0m\n\u001b[0;32m    617\u001b[0m _validate_names(kwds\u001b[38;5;241m.\u001b[39mget(\u001b[38;5;124m\"\u001b[39m\u001b[38;5;124mnames\u001b[39m\u001b[38;5;124m\"\u001b[39m, \u001b[38;5;28;01mNone\u001b[39;00m))\n\u001b[0;32m    619\u001b[0m \u001b[38;5;66;03m# Create the parser.\u001b[39;00m\n\u001b[1;32m--> 620\u001b[0m parser \u001b[38;5;241m=\u001b[39m TextFileReader(filepath_or_buffer, \u001b[38;5;241m*\u001b[39m\u001b[38;5;241m*\u001b[39mkwds)\n\u001b[0;32m    622\u001b[0m \u001b[38;5;28;01mif\u001b[39;00m chunksize \u001b[38;5;129;01mor\u001b[39;00m iterator:\n\u001b[0;32m    623\u001b[0m     \u001b[38;5;28;01mreturn\u001b[39;00m parser\n",
      "File \u001b[1;32m~\\anaconda3\\Lib\\site-packages\\pandas\\io\\parsers\\readers.py:1620\u001b[0m, in \u001b[0;36mTextFileReader.__init__\u001b[1;34m(self, f, engine, **kwds)\u001b[0m\n\u001b[0;32m   1617\u001b[0m     \u001b[38;5;28mself\u001b[39m\u001b[38;5;241m.\u001b[39moptions[\u001b[38;5;124m\"\u001b[39m\u001b[38;5;124mhas_index_names\u001b[39m\u001b[38;5;124m\"\u001b[39m] \u001b[38;5;241m=\u001b[39m kwds[\u001b[38;5;124m\"\u001b[39m\u001b[38;5;124mhas_index_names\u001b[39m\u001b[38;5;124m\"\u001b[39m]\n\u001b[0;32m   1619\u001b[0m \u001b[38;5;28mself\u001b[39m\u001b[38;5;241m.\u001b[39mhandles: IOHandles \u001b[38;5;241m|\u001b[39m \u001b[38;5;28;01mNone\u001b[39;00m \u001b[38;5;241m=\u001b[39m \u001b[38;5;28;01mNone\u001b[39;00m\n\u001b[1;32m-> 1620\u001b[0m \u001b[38;5;28mself\u001b[39m\u001b[38;5;241m.\u001b[39m_engine \u001b[38;5;241m=\u001b[39m \u001b[38;5;28mself\u001b[39m\u001b[38;5;241m.\u001b[39m_make_engine(f, \u001b[38;5;28mself\u001b[39m\u001b[38;5;241m.\u001b[39mengine)\n",
      "File \u001b[1;32m~\\anaconda3\\Lib\\site-packages\\pandas\\io\\parsers\\readers.py:1880\u001b[0m, in \u001b[0;36mTextFileReader._make_engine\u001b[1;34m(self, f, engine)\u001b[0m\n\u001b[0;32m   1878\u001b[0m     \u001b[38;5;28;01mif\u001b[39;00m \u001b[38;5;124m\"\u001b[39m\u001b[38;5;124mb\u001b[39m\u001b[38;5;124m\"\u001b[39m \u001b[38;5;129;01mnot\u001b[39;00m \u001b[38;5;129;01min\u001b[39;00m mode:\n\u001b[0;32m   1879\u001b[0m         mode \u001b[38;5;241m+\u001b[39m\u001b[38;5;241m=\u001b[39m \u001b[38;5;124m\"\u001b[39m\u001b[38;5;124mb\u001b[39m\u001b[38;5;124m\"\u001b[39m\n\u001b[1;32m-> 1880\u001b[0m \u001b[38;5;28mself\u001b[39m\u001b[38;5;241m.\u001b[39mhandles \u001b[38;5;241m=\u001b[39m get_handle(\n\u001b[0;32m   1881\u001b[0m     f,\n\u001b[0;32m   1882\u001b[0m     mode,\n\u001b[0;32m   1883\u001b[0m     encoding\u001b[38;5;241m=\u001b[39m\u001b[38;5;28mself\u001b[39m\u001b[38;5;241m.\u001b[39moptions\u001b[38;5;241m.\u001b[39mget(\u001b[38;5;124m\"\u001b[39m\u001b[38;5;124mencoding\u001b[39m\u001b[38;5;124m\"\u001b[39m, \u001b[38;5;28;01mNone\u001b[39;00m),\n\u001b[0;32m   1884\u001b[0m     compression\u001b[38;5;241m=\u001b[39m\u001b[38;5;28mself\u001b[39m\u001b[38;5;241m.\u001b[39moptions\u001b[38;5;241m.\u001b[39mget(\u001b[38;5;124m\"\u001b[39m\u001b[38;5;124mcompression\u001b[39m\u001b[38;5;124m\"\u001b[39m, \u001b[38;5;28;01mNone\u001b[39;00m),\n\u001b[0;32m   1885\u001b[0m     memory_map\u001b[38;5;241m=\u001b[39m\u001b[38;5;28mself\u001b[39m\u001b[38;5;241m.\u001b[39moptions\u001b[38;5;241m.\u001b[39mget(\u001b[38;5;124m\"\u001b[39m\u001b[38;5;124mmemory_map\u001b[39m\u001b[38;5;124m\"\u001b[39m, \u001b[38;5;28;01mFalse\u001b[39;00m),\n\u001b[0;32m   1886\u001b[0m     is_text\u001b[38;5;241m=\u001b[39mis_text,\n\u001b[0;32m   1887\u001b[0m     errors\u001b[38;5;241m=\u001b[39m\u001b[38;5;28mself\u001b[39m\u001b[38;5;241m.\u001b[39moptions\u001b[38;5;241m.\u001b[39mget(\u001b[38;5;124m\"\u001b[39m\u001b[38;5;124mencoding_errors\u001b[39m\u001b[38;5;124m\"\u001b[39m, \u001b[38;5;124m\"\u001b[39m\u001b[38;5;124mstrict\u001b[39m\u001b[38;5;124m\"\u001b[39m),\n\u001b[0;32m   1888\u001b[0m     storage_options\u001b[38;5;241m=\u001b[39m\u001b[38;5;28mself\u001b[39m\u001b[38;5;241m.\u001b[39moptions\u001b[38;5;241m.\u001b[39mget(\u001b[38;5;124m\"\u001b[39m\u001b[38;5;124mstorage_options\u001b[39m\u001b[38;5;124m\"\u001b[39m, \u001b[38;5;28;01mNone\u001b[39;00m),\n\u001b[0;32m   1889\u001b[0m )\n\u001b[0;32m   1890\u001b[0m \u001b[38;5;28;01massert\u001b[39;00m \u001b[38;5;28mself\u001b[39m\u001b[38;5;241m.\u001b[39mhandles \u001b[38;5;129;01mis\u001b[39;00m \u001b[38;5;129;01mnot\u001b[39;00m \u001b[38;5;28;01mNone\u001b[39;00m\n\u001b[0;32m   1891\u001b[0m f \u001b[38;5;241m=\u001b[39m \u001b[38;5;28mself\u001b[39m\u001b[38;5;241m.\u001b[39mhandles\u001b[38;5;241m.\u001b[39mhandle\n",
      "File \u001b[1;32m~\\anaconda3\\Lib\\site-packages\\pandas\\io\\common.py:873\u001b[0m, in \u001b[0;36mget_handle\u001b[1;34m(path_or_buf, mode, encoding, compression, memory_map, is_text, errors, storage_options)\u001b[0m\n\u001b[0;32m    868\u001b[0m \u001b[38;5;28;01melif\u001b[39;00m \u001b[38;5;28misinstance\u001b[39m(handle, \u001b[38;5;28mstr\u001b[39m):\n\u001b[0;32m    869\u001b[0m     \u001b[38;5;66;03m# Check whether the filename is to be opened in binary mode.\u001b[39;00m\n\u001b[0;32m    870\u001b[0m     \u001b[38;5;66;03m# Binary mode does not support 'encoding' and 'newline'.\u001b[39;00m\n\u001b[0;32m    871\u001b[0m     \u001b[38;5;28;01mif\u001b[39;00m ioargs\u001b[38;5;241m.\u001b[39mencoding \u001b[38;5;129;01mand\u001b[39;00m \u001b[38;5;124m\"\u001b[39m\u001b[38;5;124mb\u001b[39m\u001b[38;5;124m\"\u001b[39m \u001b[38;5;129;01mnot\u001b[39;00m \u001b[38;5;129;01min\u001b[39;00m ioargs\u001b[38;5;241m.\u001b[39mmode:\n\u001b[0;32m    872\u001b[0m         \u001b[38;5;66;03m# Encoding\u001b[39;00m\n\u001b[1;32m--> 873\u001b[0m         handle \u001b[38;5;241m=\u001b[39m \u001b[38;5;28mopen\u001b[39m(\n\u001b[0;32m    874\u001b[0m             handle,\n\u001b[0;32m    875\u001b[0m             ioargs\u001b[38;5;241m.\u001b[39mmode,\n\u001b[0;32m    876\u001b[0m             encoding\u001b[38;5;241m=\u001b[39mioargs\u001b[38;5;241m.\u001b[39mencoding,\n\u001b[0;32m    877\u001b[0m             errors\u001b[38;5;241m=\u001b[39merrors,\n\u001b[0;32m    878\u001b[0m             newline\u001b[38;5;241m=\u001b[39m\u001b[38;5;124m\"\u001b[39m\u001b[38;5;124m\"\u001b[39m,\n\u001b[0;32m    879\u001b[0m         )\n\u001b[0;32m    880\u001b[0m     \u001b[38;5;28;01melse\u001b[39;00m:\n\u001b[0;32m    881\u001b[0m         \u001b[38;5;66;03m# Binary mode\u001b[39;00m\n\u001b[0;32m    882\u001b[0m         handle \u001b[38;5;241m=\u001b[39m \u001b[38;5;28mopen\u001b[39m(handle, ioargs\u001b[38;5;241m.\u001b[39mmode)\n",
      "\u001b[1;31mFileNotFoundError\u001b[0m: [Errno 2] No such file or directory: 'sales_data_sample.csv'"
     ]
    }
   ],
   "source": [
    "df=pd.read_csv(\"sales_data_sample.csv\", encoding=\"latin1\")\n",
    "print(df.info())"
   ]
  },
  {
   "cell_type": "code",
   "execution_count": 46,
   "id": "f204f37f-6809-44db-a491-c1458d98246f",
   "metadata": {},
   "outputs": [
    {
     "name": "stdout",
     "output_type": "stream",
     "text": [
      "sample dataframe\n",
      "      Name  age  Salary  Perforamance Score\n",
      "0     yash   24   50000                  98\n",
      "1   mahesh   32   42000                  90\n",
      "2      raj   28   45000                  87\n",
      "3  vaibhav   34   39000                  68\n",
      "4     ajay   23   54000                  92\n",
      "5     deep   27   84000                  84\n",
      "6      ram   29   32000                  88\n",
      "7    rohit   33   45000                  75\n",
      "Descriptive statistics\n",
      "             age       Salary  Perforamance Score\n",
      "count   8.000000      8.00000            8.000000\n",
      "mean   28.750000  48875.00000           85.250000\n",
      "std     4.062019  15679.26292            9.602827\n",
      "min    23.000000  32000.00000           68.000000\n",
      "25%    26.250000  41250.00000           81.750000\n",
      "50%    28.500000  45000.00000           87.500000\n",
      "75%    32.250000  51000.00000           90.500000\n",
      "max    34.000000  84000.00000           98.000000\n"
     ]
    }
   ],
   "source": [
    "import pandas as pd\n",
    "\n",
    "data = {\n",
    "    \"Name\": ['yash', 'mahesh', 'raj','vaibhav','ajay','deep','ram','rohit'],\n",
    "    \"age\": [24, 32, 28,34,23,27,29,33],\n",
    "    \"Salary\": [50000,42000,45000,39000,54000,84000,32000,45000],\n",
    "    \"Perforamance Score\":[98,90,87,68,92,84,88,75]\n",
    "}\n",
    "\n",
    "df = pd.DataFrame(data)  # Corrected: pd.DataFrame instead of pd.dataframe\n",
    "print(\"sample dataframe\")\n",
    "print(df)\n",
    "print(\"Descriptive statistics\")\n",
    "print(df.describe())"
   ]
  },
  {
   "cell_type": "code",
   "execution_count": 48,
   "id": "5f426fbd-d358-4492-9c22-3d5b36e0863b",
   "metadata": {},
   "outputs": [
    {
     "name": "stdout",
     "output_type": "stream",
     "text": [
      "shape:(8, 4)\n",
      "column names:Index(['Name', 'age', 'Salary', 'Perforamance Score'], dtype='object')\n",
      "      Name  age  Salary  Perforamance Score\n",
      "0     yash   24   50000                  98\n",
      "1   mahesh   32   42000                  90\n",
      "2      raj   28   45000                  87\n",
      "3  vaibhav   34   39000                  68\n",
      "4     ajay   23   54000                  92\n",
      "5     deep   27   84000                  84\n",
      "6      ram   29   32000                  88\n",
      "7    rohit   33   45000                  75\n"
     ]
    }
   ],
   "source": [
    "print(f'shape:{df.shape}')\n",
    "print(f'column names:{df.columns}')\n",
    "print(df)"
   ]
  },
  {
   "cell_type": "code",
   "execution_count": 50,
   "id": "6bc61afb-8989-4a33-915b-158b59cae1a7",
   "metadata": {},
   "outputs": [
    {
     "name": "stdout",
     "output_type": "stream",
     "text": [
      "   Name  age  Salary  Perforamance Score\n",
      "4  ajay   23   54000                  92\n",
      "5  deep   27   84000                  84\n"
     ]
    }
   ],
   "source": [
    "condition1=df[df[\"Salary\"]>50000]\n",
    "print(condition1)"
   ]
  },
  {
   "cell_type": "code",
   "execution_count": 52,
   "id": "a564382d-008b-49c6-878f-4ee310428efc",
   "metadata": {},
   "outputs": [
    {
     "name": "stdout",
     "output_type": "stream",
     "text": [
      "   Name  age  Salary  Perforamance Score\n",
      "4  ajay   23   54000                  92\n"
     ]
    }
   ],
   "source": [
    "condition2=df[(df[\"Salary\"]>50000)&(df[\"Perforamance Score\"]>90)]\n",
    "print(condition2)"
   ]
  },
  {
   "cell_type": "code",
   "execution_count": 54,
   "id": "9bba5d6f-8ef9-4c25-b2f1-20eac75fccb6",
   "metadata": {},
   "outputs": [
    {
     "name": "stdout",
     "output_type": "stream",
     "text": [
      "name (single colume return series)\n",
      "0       yash\n",
      "1     mahesh\n",
      "2        raj\n",
      "3    vaibhav\n",
      "4       ajay\n",
      "5       deep\n",
      "6        ram\n",
      "7      rohit\n",
      "Name: Name, dtype: object\n"
     ]
    }
   ],
   "source": [
    "print(\"name (single colume return series)\")\n",
    "print(df[\"Name\"])"
   ]
  },
  {
   "cell_type": "code",
   "execution_count": 56,
   "id": "4770d00c-ec7f-4bfd-ba9f-0a581e8bb308",
   "metadata": {},
   "outputs": [
    {
     "name": "stdout",
     "output_type": "stream",
     "text": [
      "\n",
      "subset with name and salary\n",
      "      Name  Salary\n",
      "0     yash   50000\n",
      "1   mahesh   42000\n",
      "2      raj   45000\n",
      "3  vaibhav   39000\n",
      "4     ajay   54000\n",
      "5     deep   84000\n",
      "6      ram   32000\n",
      "7    rohit   45000\n"
     ]
    }
   ],
   "source": [
    "#selecting multiple columes\n",
    "\n",
    "subset=df[[\"Name\",\"Salary\"]]\n",
    "print(\"\\nsubset with name and salary\")\n",
    "print(subset)"
   ]
  },
  {
   "cell_type": "code",
   "execution_count": 58,
   "id": "d164912c-b473-41e9-befe-49c6ad67e450",
   "metadata": {},
   "outputs": [
    {
     "name": "stdout",
     "output_type": "stream",
     "text": [
      "     Name  age  Salary  Perforamance Score\n",
      "1  mahesh   32   42000                  90\n",
      "2     raj   28   45000                  87\n",
      "5    deep   27   84000                  84\n",
      "7   rohit   33   45000                  75\n"
     ]
    }
   ],
   "source": [
    "filtered=df[(df[\"Salary\"]>40000)&(df[\"age\"]>25)]\n",
    "print(filtered)"
   ]
  },
  {
   "cell_type": "code",
   "execution_count": 60,
   "id": "7320bbae-c74c-435b-bfce-942dc610ae50",
   "metadata": {},
   "outputs": [
    {
     "name": "stdout",
     "output_type": "stream",
     "text": [
      "      Name  age  Salary  Perforamance Score\n",
      "0     yash   24   50000                  98\n",
      "1   mahesh   32   42000                  90\n",
      "3  vaibhav   34   39000                  68\n",
      "4     ajay   23   54000                  92\n",
      "7    rohit   33   45000                  75\n"
     ]
    }
   ],
   "source": [
    "# using OR condition \n",
    "\n",
    "filtered_or=df[(df[\"Perforamance Score\"]>90)| (df[\"age\"]>30)]\n",
    "print(filtered_or)"
   ]
  },
  {
   "cell_type": "code",
   "execution_count": 62,
   "id": "ee9ac5c3-f20c-4c9e-8f18-6f97fc5563eb",
   "metadata": {},
   "outputs": [
    {
     "name": "stdout",
     "output_type": "stream",
     "text": [
      "      Name  age  Salary  Perforamance Score   Bonus\n",
      "0     yash   24   50000                  98  5000.0\n",
      "1   mahesh   32   42000                  90  4200.0\n",
      "2      raj   28   45000                  87  4500.0\n",
      "3  vaibhav   34   39000                  68  3900.0\n",
      "4     ajay   23   54000                  92  5400.0\n",
      "5     deep   27   84000                  84  8400.0\n",
      "6      ram   29   32000                  88  3200.0\n",
      "7    rohit   33   45000                  75  4500.0\n"
     ]
    }
   ],
   "source": [
    "df[\"Bonus\"]=df[\"Salary\"]*0.1\n",
    "print(df)"
   ]
  },
  {
   "cell_type": "code",
   "execution_count": 64,
   "id": "9f95b563-bfac-47f0-aedb-c21b5a32c8f6",
   "metadata": {},
   "outputs": [
    {
     "name": "stdout",
     "output_type": "stream",
     "text": [
      "   Employee_id     Name  age  Salary  Perforamance Score   Bonus\n",
      "0           10     yash   24   50000                  98  5000.0\n",
      "1           20   mahesh   32   42000                  90  4200.0\n",
      "2           30      raj   28   45000                  87  4500.0\n",
      "3           40  vaibhav   34   39000                  68  3900.0\n",
      "4           50     ajay   23   54000                  92  5400.0\n",
      "5           60     deep   27   84000                  84  8400.0\n",
      "6           70      ram   29   32000                  88  3200.0\n",
      "7           80    rohit   33   45000                  75  4500.0\n"
     ]
    }
   ],
   "source": [
    "df.insert(0,\"Employee_id\",[10,20,30,40,50,60,70,80])\n",
    "print(df)"
   ]
  },
  {
   "cell_type": "code",
   "execution_count": 66,
   "id": "c8d44b86-2bf3-47cb-874e-244c202db0fd",
   "metadata": {},
   "outputs": [
    {
     "name": "stdout",
     "output_type": "stream",
     "text": [
      "   Employee_id     Name  age  Salary  Perforamance Score   Bonus\n",
      "0           10     yash   24   50000                  98  5000.0\n",
      "1           20   mahesh   32   42000                  90  4200.0\n",
      "2           30      raj   28   45000                  87  4500.0\n",
      "3           40  vaibhav   34   39000                  68  3900.0\n",
      "4           50     ajay   23   60000                  92  5400.0\n",
      "5           60     deep   27   84000                  84  8400.0\n",
      "6           70      ram   29   32000                  88  3200.0\n",
      "7           80    rohit   33   45000                  75  4500.0\n"
     ]
    }
   ],
   "source": [
    "df.loc[4,\"Salary\"]=60000\n",
    "print(df)"
   ]
  },
  {
   "cell_type": "code",
   "execution_count": 68,
   "id": "83c09123-349e-4603-a76f-7bc054ad2fa2",
   "metadata": {},
   "outputs": [
    {
     "name": "stdout",
     "output_type": "stream",
     "text": [
      "   Employee_id     Name  age   Salary  Perforamance Score   Bonus\n",
      "0           10     yash   24  52500.0                  98  5000.0\n",
      "1           20   mahesh   32  44100.0                  90  4200.0\n",
      "2           30      raj   28  47250.0                  87  4500.0\n",
      "3           40  vaibhav   34  40950.0                  68  3900.0\n",
      "4           50     ajay   23  63000.0                  92  5400.0\n",
      "5           60     deep   27  88200.0                  84  8400.0\n",
      "6           70      ram   29  33600.0                  88  3200.0\n",
      "7           80    rohit   33  47250.0                  75  4500.0\n"
     ]
    }
   ],
   "source": [
    "df[\"Salary\"]=df[\"Salary\"]*1.05\n",
    "print(df)"
   ]
  },
  {
   "cell_type": "code",
   "execution_count": 17,
   "id": "136a11a5-97bc-402a-9b6e-f603de73f07c",
   "metadata": {},
   "outputs": [
    {
     "ename": "NameError",
     "evalue": "name 'df' is not defined",
     "output_type": "error",
     "traceback": [
      "\u001b[1;31m---------------------------------------------------------------------------\u001b[0m",
      "\u001b[1;31mNameError\u001b[0m                                 Traceback (most recent call last)",
      "Cell \u001b[1;32mIn[17], line 1\u001b[0m\n\u001b[1;32m----> 1\u001b[0m df\u001b[38;5;241m.\u001b[39mdrop(Columns\u001b[38;5;241m=\u001b[39m[\u001b[38;5;124m\"\u001b[39m\u001b[38;5;124m Perforamance Score\u001b[39m\u001b[38;5;124m\"\u001b[39m],inplace\u001b[38;5;241m=\u001b[39m\u001b[38;5;28;01mTrue\u001b[39;00m)\n\u001b[0;32m      2\u001b[0m \u001b[38;5;28mprint\u001b[39m(df)\n",
      "\u001b[1;31mNameError\u001b[0m: name 'df' is not defined"
     ]
    }
   ],
   "source": [
    "df.drop(Columns=[\" Perforamance Score\"],inplace=True)\n",
    "print(df)"
   ]
  },
  {
   "cell_type": "code",
   "execution_count": 72,
   "id": "7dca77e5-95d8-4283-bc8f-c7038bf00e86",
   "metadata": {},
   "outputs": [
    {
     "name": "stdout",
     "output_type": "stream",
     "text": [
      "sample dataframe\n",
      "      Name   age   Salary  Perforamance Score\n",
      "0     yash  24.0  50000.0                98.0\n",
      "1   mahesh  32.0  42000.0                90.0\n",
      "2      raj   NaN  45000.0                 NaN\n",
      "3  vaibhav  34.0      NaN                68.0\n",
      "4     ajay  23.0  54000.0                92.0\n",
      "5     deep  27.0      NaN                84.0\n",
      "6      ram  29.0  32000.0                88.0\n",
      "7    rohit  33.0  45000.0                75.0\n"
     ]
    }
   ],
   "source": [
    "import pandas as pd\n",
    "\n",
    "data = {\n",
    "    \"Name\": ['yash', 'mahesh', 'raj','vaibhav','ajay','deep','ram','rohit'],\n",
    "    \"age\": [24, 32, None,34,23,27,29,33],\n",
    "    \"Salary\": [50000,42000,45000,None,54000,None,32000,45000],\n",
    "    \"Perforamance Score\":[98,90,None,68,92,84,88,75]\n",
    "}\n",
    "\n",
    "df = pd.DataFrame(data)  # Corrected: pd.DataFrame instead of pd.dataframe\n",
    "print(\"sample dataframe\")\n",
    "print(df)"
   ]
  },
  {
   "cell_type": "code",
   "execution_count": 74,
   "id": "3e6526fd-cbcb-4667-b502-5f3bdf69f7ff",
   "metadata": {},
   "outputs": [
    {
     "name": "stdout",
     "output_type": "stream",
     "text": [
      "    Name    age  Salary  Perforamance Score\n",
      "0  False  False   False               False\n",
      "1  False  False   False               False\n",
      "2  False   True   False                True\n",
      "3  False  False    True               False\n",
      "4  False  False   False               False\n",
      "5  False  False    True               False\n",
      "6  False  False   False               False\n",
      "7  False  False   False               False\n",
      "Name                  0\n",
      "age                   1\n",
      "Salary                2\n",
      "Perforamance Score    1\n",
      "dtype: int64\n"
     ]
    }
   ],
   "source": [
    "print(df.isnull())\n",
    "\n",
    "print(df.isnull().sum())"
   ]
  },
  {
   "cell_type": "code",
   "execution_count": 76,
   "id": "6857de33-a7e5-4b7a-a22e-5cc3428ffe0f",
   "metadata": {},
   "outputs": [
    {
     "name": "stdout",
     "output_type": "stream",
     "text": [
      "     Name   age   Salary  Perforamance Score\n",
      "0    yash  24.0  50000.0                98.0\n",
      "1  mahesh  32.0  42000.0                90.0\n",
      "4    ajay  23.0  54000.0                92.0\n",
      "6     ram  29.0  32000.0                88.0\n",
      "7   rohit  33.0  45000.0                75.0\n"
     ]
    }
   ],
   "source": [
    "# for removing missing values \n",
    "\n",
    "df.dropna(axis=0,inplace=True)\n",
    "print(df)"
   ]
  },
  {
   "cell_type": "code",
   "execution_count": 78,
   "id": "c2c237b7-40d5-49af-9287-5e4e312dafa0",
   "metadata": {},
   "outputs": [
    {
     "name": "stdout",
     "output_type": "stream",
     "text": [
      "sample dataframe\n",
      "      Name   age   Salary  Perforamance Score\n",
      "0     yash  24.0  50000.0                98.0\n",
      "1   mahesh  32.0  42000.0                90.0\n",
      "2      raj   NaN  45000.0                 NaN\n",
      "3  vaibhav  34.0      NaN                68.0\n",
      "4     ajay  23.0  54000.0                92.0\n",
      "5     deep  27.0      NaN                84.0\n",
      "6      ram  29.0  32000.0                88.0\n",
      "7    rohit  33.0  45000.0                75.0\n"
     ]
    }
   ],
   "source": [
    "import pandas as pd\n",
    "\n",
    "data = {\n",
    "    \"Name\": ['yash', 'mahesh', 'raj','vaibhav','ajay','deep','ram','rohit'],\n",
    "    \"age\": [24, 32, None,34,23,27,29,33],\n",
    "    \"Salary\": [50000,42000,45000,None,54000,None,32000,45000],\n",
    "    \"Perforamance Score\":[98,90,None,68,92,84,88,75]\n",
    "}\n",
    "\n",
    "df = pd.DataFrame(data)  # Corrected: pd.DataFrame instead of pd.dataframe\n",
    "print(\"sample dataframe\")\n",
    "print(df)"
   ]
  },
  {
   "cell_type": "code",
   "execution_count": 80,
   "id": "1a442965-1be0-4f3a-bdd8-e6703f7a3888",
   "metadata": {},
   "outputs": [
    {
     "name": "stdout",
     "output_type": "stream",
     "text": [
      "      Name   age   Salary  Perforamance Score\n",
      "0     yash  24.0  50000.0                98.0\n",
      "1   mahesh  32.0  42000.0                90.0\n",
      "2      raj   0.0  45000.0                 0.0\n",
      "3  vaibhav  34.0      0.0                68.0\n",
      "4     ajay  23.0  54000.0                92.0\n",
      "5     deep  27.0      0.0                84.0\n",
      "6      ram  29.0  32000.0                88.0\n",
      "7    rohit  33.0  45000.0                75.0\n"
     ]
    }
   ],
   "source": [
    "#filling values in missing values\n",
    "\n",
    "df.fillna(0,inplace=True)\n",
    "print(df)"
   ]
  },
  {
   "cell_type": "code",
   "execution_count": 82,
   "id": "c380d560-f098-48a5-9792-a7f8e601e291",
   "metadata": {},
   "outputs": [
    {
     "name": "stdout",
     "output_type": "stream",
     "text": [
      "sample dataframe\n",
      "      Name   age   Salary  Perforamance Score\n",
      "0     yash  24.0  50000.0                98.0\n",
      "1   mahesh  32.0  42000.0                90.0\n",
      "2      raj   NaN  45000.0                 NaN\n",
      "3  vaibhav  34.0      NaN                68.0\n",
      "4     ajay  23.0  54000.0                92.0\n",
      "5     deep  27.0      NaN                84.0\n",
      "6      ram  29.0  32000.0                88.0\n",
      "7    rohit  33.0  45000.0                75.0\n"
     ]
    }
   ],
   "source": [
    "import pandas as pd\n",
    "\n",
    "data = {\n",
    "    \"Name\": ['yash', 'mahesh', 'raj','vaibhav','ajay','deep','ram','rohit'],\n",
    "    \"age\": [24, 32, None,34,23,27,29,33],\n",
    "    \"Salary\": [50000,42000,45000,None,54000,None,32000,45000],\n",
    "    \"Perforamance Score\":[98,90,None,68,92,84,88,75]\n",
    "}\n",
    "\n",
    "df = pd.DataFrame(data)  # Corrected: pd.DataFrame instead of pd.dataframe\n",
    "print(\"sample dataframe\")\n",
    "print(df)"
   ]
  },
  {
   "cell_type": "code",
   "execution_count": 84,
   "id": "90c76dfe-fb47-4e5e-85dd-cce880ffacf3",
   "metadata": {},
   "outputs": [
    {
     "name": "stdout",
     "output_type": "stream",
     "text": [
      "      Name        age   Salary  Perforamance Score\n",
      "0     yash  24.000000  50000.0                98.0\n",
      "1   mahesh  32.000000  42000.0                90.0\n",
      "2      raj  28.857143  45000.0                 NaN\n",
      "3  vaibhav  34.000000      NaN                68.0\n",
      "4     ajay  23.000000  54000.0                92.0\n",
      "5     deep  27.000000      NaN                84.0\n",
      "6      ram  29.000000  32000.0                88.0\n",
      "7    rohit  33.000000  45000.0                75.0\n"
     ]
    },
    {
     "name": "stderr",
     "output_type": "stream",
     "text": [
      "C:\\Users\\ASUS\\AppData\\Local\\Temp\\ipykernel_5356\\412227497.py:3: FutureWarning: A value is trying to be set on a copy of a DataFrame or Series through chained assignment using an inplace method.\n",
      "The behavior will change in pandas 3.0. This inplace method will never work because the intermediate object on which we are setting values always behaves as a copy.\n",
      "\n",
      "For example, when doing 'df[col].method(value, inplace=True)', try using 'df.method({col: value}, inplace=True)' or df[col] = df[col].method(value) instead, to perform the operation inplace on the original object.\n",
      "\n",
      "\n",
      "  df[\"age\"].fillna(df[\"age\"].mean(),inplace=True)\n"
     ]
    }
   ],
   "source": [
    "# another way to filling value\n",
    "\n",
    "df[\"age\"].fillna(df[\"age\"].mean(),inplace=True)\n",
    "print(df)"
   ]
  },
  {
   "cell_type": "code",
   "execution_count": 86,
   "id": "6de718b0-da98-42ff-91dd-baf4bac1dd9f",
   "metadata": {},
   "outputs": [
    {
     "name": "stdout",
     "output_type": "stream",
     "text": [
      "      Name        age        Salary  Perforamance Score\n",
      "0     yash  24.000000  50000.000000                98.0\n",
      "1   mahesh  32.000000  42000.000000                90.0\n",
      "2      raj  28.857143  45000.000000                 NaN\n",
      "3  vaibhav  34.000000  44666.666667                68.0\n",
      "4     ajay  23.000000  54000.000000                92.0\n",
      "5     deep  27.000000  44666.666667                84.0\n",
      "6      ram  29.000000  32000.000000                88.0\n",
      "7    rohit  33.000000  45000.000000                75.0\n"
     ]
    },
    {
     "name": "stderr",
     "output_type": "stream",
     "text": [
      "C:\\Users\\ASUS\\AppData\\Local\\Temp\\ipykernel_5356\\763457068.py:1: FutureWarning: A value is trying to be set on a copy of a DataFrame or Series through chained assignment using an inplace method.\n",
      "The behavior will change in pandas 3.0. This inplace method will never work because the intermediate object on which we are setting values always behaves as a copy.\n",
      "\n",
      "For example, when doing 'df[col].method(value, inplace=True)', try using 'df.method({col: value}, inplace=True)' or df[col] = df[col].method(value) instead, to perform the operation inplace on the original object.\n",
      "\n",
      "\n",
      "  df[\"Salary\"].fillna(df[\"Salary\"].mean(),inplace=True)\n"
     ]
    }
   ],
   "source": [
    "df[\"Salary\"].fillna(df[\"Salary\"].mean(),inplace=True)\n",
    "print(df)"
   ]
  },
  {
   "cell_type": "code",
   "execution_count": 88,
   "id": "2cf68416-1e06-4320-8984-88a8e1e22719",
   "metadata": {},
   "outputs": [
    {
     "name": "stdout",
     "output_type": "stream",
     "text": [
      "      Name        age        Salary  Perforamance Score\n",
      "0     yash  24.000000  50000.000000                98.0\n",
      "1   mahesh  32.000000  42000.000000                90.0\n",
      "2      raj  28.857143  45000.000000                85.0\n",
      "3  vaibhav  34.000000  44666.666667                68.0\n",
      "4     ajay  23.000000  54000.000000                92.0\n",
      "5     deep  27.000000  44666.666667                84.0\n",
      "6      ram  29.000000  32000.000000                88.0\n",
      "7    rohit  33.000000  45000.000000                75.0\n"
     ]
    },
    {
     "name": "stderr",
     "output_type": "stream",
     "text": [
      "C:\\Users\\ASUS\\AppData\\Local\\Temp\\ipykernel_5356\\1616446553.py:1: FutureWarning: A value is trying to be set on a copy of a DataFrame or Series through chained assignment using an inplace method.\n",
      "The behavior will change in pandas 3.0. This inplace method will never work because the intermediate object on which we are setting values always behaves as a copy.\n",
      "\n",
      "For example, when doing 'df[col].method(value, inplace=True)', try using 'df.method({col: value}, inplace=True)' or df[col] = df[col].method(value) instead, to perform the operation inplace on the original object.\n",
      "\n",
      "\n",
      "  df[\"Perforamance Score\"].fillna(df[\"Perforamance Score\"].mean(),inplace=True)\n"
     ]
    }
   ],
   "source": [
    "df[\"Perforamance Score\"].fillna(df[\"Perforamance Score\"].mean(),inplace=True)\n",
    "print(df)"
   ]
  },
  {
   "cell_type": "code",
   "execution_count": 90,
   "id": "265923c1-e7c2-4bdc-8508-a40525b9fe65",
   "metadata": {},
   "outputs": [
    {
     "name": "stdout",
     "output_type": "stream",
     "text": [
      "Before interpolation\n",
      "   Time  values\n",
      "0     1    10.0\n",
      "1     2     NaN\n",
      "2     3    30.0\n",
      "3     4     NaN\n",
      "4     5    50.0\n",
      "After interpolation\n",
      "   Time  values\n",
      "0     1    10.0\n",
      "1     2    20.0\n",
      "2     3    30.0\n",
      "3     4    40.0\n",
      "4     5    50.0\n"
     ]
    }
   ],
   "source": [
    "#filling estimatesd values\n",
    "#linear, polynomial\n",
    "\n",
    "\n",
    "import pandas as pd\n",
    "\n",
    "data={\n",
    "    \"Time\":[1,2,3,4,5],\n",
    "    \"values\":[10,None,30,None,50]\n",
    "}\n",
    "df=pd.DataFrame(data)\n",
    "print(\"Before interpolation\")\n",
    "print(df)\n",
    "df[\"values\"]=df[\"values\"].interpolate(method=\"linear\")\n",
    "print(\"After interpolation\")\n",
    "print(df)"
   ]
  },
  {
   "cell_type": "code",
   "execution_count": 92,
   "id": "9480e854-198d-4d48-bbf4-590dc71e4c85",
   "metadata": {},
   "outputs": [
    {
     "name": "stdout",
     "output_type": "stream",
     "text": [
      "Sorted age by descending\n",
      "      Name  age  Salary\n",
      "2      raj   34   45000\n",
      "1   mahesh   32   42000\n",
      "0     yash   24   50000\n",
      "3  vaibhav   23   36000\n"
     ]
    }
   ],
   "source": [
    "#Sorting and aggregation\n",
    "\n",
    "import pandas as pd\n",
    "data={\n",
    "    \"Name\": ['yash', 'mahesh', 'raj','vaibhav'],\n",
    "    \"age\": [24, 32,34,23],\n",
    "    \"Salary\": [50000,42000,45000,36000]\n",
    "}\n",
    "df=pd.DataFrame(data)\n",
    "df.sort_values(by='age',ascending=False,inplace=True)\n",
    "print('Sorted age by descending')\n",
    "print(df)"
   ]
  },
  {
   "cell_type": "code",
   "execution_count": 94,
   "id": "bf534544-15ca-4d24-9fba-d2682905cb32",
   "metadata": {},
   "outputs": [
    {
     "name": "stdout",
     "output_type": "stream",
     "text": [
      "      Name  age  Salary\n",
      "3  vaibhav   23   36000\n",
      "0     yash   24   50000\n",
      "1   mahesh   32   42000\n",
      "2      raj   34   45000\n"
     ]
    }
   ],
   "source": [
    "df.sort_values(by=['age','Salary'], ascending=[True,False],inplace=True)\n",
    "print(df)"
   ]
  },
  {
   "cell_type": "code",
   "execution_count": 96,
   "id": "a5fc495a-86d1-49a5-a308-065636c67872",
   "metadata": {},
   "outputs": [
    {
     "name": "stdout",
     "output_type": "stream",
     "text": [
      "      Name  age  Salary\n",
      "0     yash   24   50000\n",
      "1   mahesh   32   42000\n",
      "2      raj   34   45000\n",
      "3  vaibhav   23   36000\n",
      "avg Salary is:  43250.0\n"
     ]
    }
   ],
   "source": [
    "#summary statistic\n",
    "#.mean()  .sum()  .max()  .min()  \n",
    "import pandas as pd\n",
    "data={\n",
    "    \"Name\": ['yash', 'mahesh', 'raj','vaibhav'],\n",
    "    \"age\": [24, 32,34,23],\n",
    "    \"Salary\": [50000,42000,45000,36000]\n",
    "}\n",
    "df=pd.DataFrame(data)\n",
    "print(df)\n",
    "avg_salary=df['Salary'].mean()\n",
    "print(\"avg Salary is: \",avg_salary)"
   ]
  },
  {
   "cell_type": "code",
   "execution_count": 98,
   "id": "a7323073-f005-4bca-a3b1-b3b5c22438f1",
   "metadata": {},
   "outputs": [
    {
     "name": "stdout",
     "output_type": "stream",
     "text": [
      "salary of all emp is:  173000\n"
     ]
    }
   ],
   "source": [
    "sum=df[\"Salary\"].sum()\n",
    "print(\"salary of all emp is: \",sum)"
   ]
  },
  {
   "cell_type": "code",
   "execution_count": 100,
   "id": "781e19a6-268b-49fa-a20f-dbfaa85252e2",
   "metadata": {},
   "outputs": [
    {
     "name": "stdout",
     "output_type": "stream",
     "text": [
      "      Name  age  Salary\n",
      "0     yash   24   50000\n",
      "1   mahesh   32   42000\n",
      "2      raj   24   45000\n",
      "3  vaibhav   23   36000\n"
     ]
    }
   ],
   "source": [
    "import pandas as pd\n",
    "data={\n",
    "    \"Name\": ['yash', 'mahesh', 'raj','vaibhav'],\n",
    "    \"age\": [24, 32,24,23],\n",
    "    \"Salary\": [50000,42000,45000,36000]\n",
    "}\n",
    "df=pd.DataFrame(data)\n",
    "print(df)"
   ]
  },
  {
   "cell_type": "code",
   "execution_count": 102,
   "id": "7df2ca96-7b61-4efa-be17-54e38bd7a94d",
   "metadata": {},
   "outputs": [
    {
     "name": "stdout",
     "output_type": "stream",
     "text": [
      "age\n",
      "23    36000\n",
      "24    95000\n",
      "32    42000\n",
      "Name: Salary, dtype: int64\n"
     ]
    }
   ],
   "source": [
    "#grouping\n",
    "\n",
    "grouped=df.groupby('age')[\"Salary\"].sum()\n",
    "print(grouped)"
   ]
  },
  {
   "cell_type": "code",
   "execution_count": 104,
   "id": "53136421-977d-4ede-a641-55a1ffeff85a",
   "metadata": {},
   "outputs": [
    {
     "name": "stdout",
     "output_type": "stream",
     "text": [
      "age  Name   \n",
      "23   vaibhav    36000\n",
      "24   raj        45000\n",
      "     yash       50000\n",
      "32   mahesh     42000\n",
      "Name: Salary, dtype: int64\n"
     ]
    }
   ],
   "source": [
    "grouped=df.groupby(['age','Name'])[\"Salary\"].sum()\n",
    "print(grouped)"
   ]
  },
  {
   "cell_type": "code",
   "execution_count": 106,
   "id": "e2dcfcbb-80b6-402b-b58e-663f767910ad",
   "metadata": {},
   "outputs": [
    {
     "name": "stdout",
     "output_type": "stream",
     "text": [
      "inner join\n",
      "   customerID     Name  amount\n",
      "0           1     yash     345\n",
      "1           2     ajay     654\n",
      "2           3  vaibhav     234\n"
     ]
    }
   ],
   "source": [
    "#merging and joining\n",
    "\n",
    "import pandas as pd\n",
    "data1=pd.DataFrame({\n",
    "    \"customerID\":[1,2,3,4],\n",
    "    \"Name\":['yash','ajay','vaibhav','mahesh']\n",
    "})\n",
    "\n",
    "data2=pd.DataFrame({\n",
    "    \"customerID\":[1,2,3,5],\n",
    "    \"amount\":[345,654,234,765]\n",
    "})\n",
    "\n",
    "df_merged=pd.merge(data1,data2,on=\"customerID\",how='inner')\n",
    "print('inner join')\n",
    "print(df_merged)"
   ]
  },
  {
   "cell_type": "code",
   "execution_count": 108,
   "id": "48c0061d-8654-4035-bf8b-0bde874fbeb7",
   "metadata": {},
   "outputs": [
    {
     "name": "stdout",
     "output_type": "stream",
     "text": [
      "outer join\n",
      "   customerID     Name  amount\n",
      "0           1     yash   345.0\n",
      "1           2     ajay   654.0\n",
      "2           3  vaibhav   234.0\n",
      "3           4   mahesh     NaN\n",
      "4           5      NaN   765.0\n"
     ]
    }
   ],
   "source": [
    "df_merged=pd.merge(data1,data2,on=\"customerID\",how='outer')\n",
    "print('outer join')\n",
    "print(df_merged)"
   ]
  },
  {
   "cell_type": "code",
   "execution_count": 110,
   "id": "211d1a60-94ff-46b9-94ac-98d7039a026a",
   "metadata": {},
   "outputs": [
    {
     "name": "stdout",
     "output_type": "stream",
     "text": [
      "right join\n",
      "   customerID     Name  amount\n",
      "0           1     yash     345\n",
      "1           2     ajay     654\n",
      "2           3  vaibhav     234\n",
      "3           5      NaN     765\n"
     ]
    }
   ],
   "source": [
    "df_merged=pd.merge(data1,data2,on=\"customerID\",how='right')\n",
    "print('right join')\n",
    "print(df_merged)"
   ]
  },
  {
   "cell_type": "code",
   "execution_count": 112,
   "id": "91c04446-ef77-498f-b760-764abb26a94b",
   "metadata": {},
   "outputs": [
    {
     "name": "stdout",
     "output_type": "stream",
     "text": [
      "left join\n",
      "   customerID     Name  amount\n",
      "0           1     yash   345.0\n",
      "1           2     ajay   654.0\n",
      "2           3  vaibhav   234.0\n",
      "3           4   mahesh     NaN\n"
     ]
    }
   ],
   "source": [
    "df_merged=pd.merge(data1,data2,on=\"customerID\",how='left')\n",
    "print('left join')\n",
    "print(df_merged)"
   ]
  },
  {
   "cell_type": "code",
   "execution_count": 114,
   "id": "9fe0f1c7-7cee-4d5a-9b26-814d13077c81",
   "metadata": {},
   "outputs": [
    {
     "name": "stdout",
     "output_type": "stream",
     "text": [
      "   customerID     Name\n",
      "0           1     yash\n",
      "1           2     ajay\n",
      "2           3  vaibhav\n",
      "3           4   mahesh\n",
      "4           5      ram\n",
      "5           6    adity\n",
      "6           7    pawan\n"
     ]
    }
   ],
   "source": [
    "#concatenation\n",
    "\n",
    "import pandas as pd\n",
    "region1=pd.DataFrame({\n",
    "    \"customerID\":[1,2,3,4],\n",
    "    \"Name\":['yash','ajay','vaibhav','mahesh']\n",
    "})\n",
    "\n",
    "region2=pd.DataFrame({\n",
    "    \"customerID\":[5,6,7],\n",
    "    \"Name\":['ram','adity','pawan']\n",
    "})\n",
    "\n",
    "df_concat=pd.concat([region1,region2],ignore_index=True)\n",
    "print(df_concat)"
   ]
  },
  {
   "cell_type": "code",
   "execution_count": 116,
   "id": "1a1f03ff-97f7-4a88-bb91-26e4d7717007",
   "metadata": {},
   "outputs": [
    {
     "name": "stdout",
     "output_type": "stream",
     "text": [
      "   0        1    2      3\n",
      "0  1     yash  5.0    ram\n",
      "1  2     ajay  6.0  adity\n",
      "2  3  vaibhav  7.0  pawan\n",
      "3  4   mahesh  NaN    NaN\n"
     ]
    }
   ],
   "source": [
    "df_concat=pd.concat([region1,region2],axis=1,ignore_index=True)\n",
    "print(df_concat)"
   ]
  },
  {
   "cell_type": "code",
   "execution_count": null,
   "id": "6441d861-ad89-45dd-b12d-5fa8332bcbeb",
   "metadata": {},
   "outputs": [],
   "source": []
  },
  {
   "cell_type": "code",
   "execution_count": null,
   "id": "4e87708f-df8d-48f7-a6f6-b5270136c219",
   "metadata": {},
   "outputs": [],
   "source": []
  },
  {
   "cell_type": "code",
   "execution_count": null,
   "id": "082eba6b-0acd-4d43-815a-28e421dff3fe",
   "metadata": {},
   "outputs": [],
   "source": []
  }
 ],
 "metadata": {
  "kernelspec": {
   "display_name": "Python [conda env:base] *",
   "language": "python",
   "name": "conda-base-py"
  },
  "language_info": {
   "codemirror_mode": {
    "name": "ipython",
    "version": 3
   },
   "file_extension": ".py",
   "mimetype": "text/x-python",
   "name": "python",
   "nbconvert_exporter": "python",
   "pygments_lexer": "ipython3",
   "version": "3.12.7"
  }
 },
 "nbformat": 4,
 "nbformat_minor": 5
}
